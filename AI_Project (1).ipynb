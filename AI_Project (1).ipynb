{
  "cells": [
    {
      "cell_type": "code",
      "execution_count": 4,
      "id": "08a2121e-1f69-4b62-9b6d-d91e1ba5cc0f",
      "metadata": {
        "colab": {
          "base_uri": "https://localhost:8080/"
        },
        "id": "08a2121e-1f69-4b62-9b6d-d91e1ba5cc0f",
        "outputId": "48d12571-4e02-4523-92a6-d9fdf088b15a"
      },
      "outputs": [
        {
          "output_type": "stream",
          "name": "stdout",
          "text": [
            "Enter preferred genre (e.g. Fiction, Romance, History): History\n",
            "Enter minimum rating (default is 3.5): 4\n",
            "\n",
            "📚 Top Recommended Books:\n",
            "\n",
            "   Title   Author   Genre  Rating  Borrow_Count\n",
            "Book 297 Author B History     5.0           390\n",
            "Book 251 Author C History     4.5           316\n",
            "Book 264 Author E History     4.5           183\n",
            " Book 25 Author B History     4.1            59\n",
            " Book 31 Author B History     4.5           158\n"
          ]
        }
      ],
      "source": [
        "import pandas as pd\n",
        "\n",
        "# Load dataset\n",
        "df = pd.read_csv(\"/content/drive/MyDrive/uncleaned_library_books_dataset.csv\")\n",
        "\n",
        "# Step 1: Data Cleaning\n",
        "df_clean = df.copy()\n",
        "\n",
        "# Fill missing values\n",
        "df_clean['Demand_Level'] = df_clean['Demand_Level'].fillna('Unknown')\n",
        "df_clean['Rating'] = pd.to_numeric(df_clean['Rating'], errors='coerce')\n",
        "df_clean['Rating'] = df_clean['Rating'].fillna(df_clean['Rating'].mean())\n",
        "df_clean['Publication_Year'] = pd.to_numeric(df_clean['Publication_Year'], errors='coerce')\n",
        "df_clean['Publication_Year'] = df_clean['Publication_Year'].fillna(2000)\n",
        "\n",
        "# Normalize demand levels\n",
        "df_clean['Demand_Level'] = df_clean['Demand_Level'].str.lower().str.strip()\n",
        "df_clean['Demand_Level'] = df_clean['Demand_Level'].replace({'low': 'Low', 'medium': 'Medium', 'high': 'High', 'unknown': 'Low'})\n",
        "\n",
        "# Step 2: Encode Demand Level\n",
        "demand_score = {'Low': 1, 'Medium': 2, 'High': 3}\n",
        "df_clean['Demand_Score'] = df_clean['Demand_Level'].map(demand_score)\n",
        "\n",
        "# Step 3: Recommend books based on rules\n",
        "def recommend_books(preferred_genre, min_rating=3.5):\n",
        "    filtered = df_clean[\n",
        "        (df_clean['Genre'] == preferred_genre) &\n",
        "        (df_clean['Rating'] >= min_rating) &\n",
        "        (df_clean['Demand_Score'] >= 2)\n",
        "    ]\n",
        "\n",
        "    recommended = filtered.sort_values(by=['Demand_Score', 'Borrow_Count', 'Rating'], ascending=False)\n",
        "    return recommended[['Title', 'Author', 'Genre', 'Rating', 'Borrow_Count']].head(10)\n",
        "\n",
        "# Step 4: Take input from user\n",
        "user_genre = input(\"Enter preferred genre (e.g. Fiction, Romance, History): \")\n",
        "user_min_rating = input(\"Enter minimum rating (default is 3.5): \")\n",
        "\n",
        "try:\n",
        "    user_min_rating = float(user_min_rating)\n",
        "except:\n",
        "    user_min_rating = 3.5\n",
        "\n",
        "# Step 5: Show top recommendations\n",
        "recommendations = recommend_books(user_genre, user_min_rating)\n",
        "\n",
        "# Display results\n",
        "if not recommendations.empty:\n",
        "    print(\"\\n📚 Top Recommended Books:\\n\")\n",
        "    print(recommendations.to_string(index=False))\n",
        "else:\n",
        "    print(\"\\n❌ No recommendations found. Try a different genre or lower rating.\")\n"
      ]
    },
    {
      "cell_type": "code",
      "execution_count": 3,
      "id": "50d053b1-f5fb-4b89-afbf-8b7373e2afae",
      "metadata": {
        "colab": {
          "base_uri": "https://localhost:8080/"
        },
        "id": "50d053b1-f5fb-4b89-afbf-8b7373e2afae",
        "outputId": "6ee4c962-23f3-4d67-ecfc-cc4557c1472e"
      },
      "outputs": [
        {
          "output_type": "stream",
          "name": "stdout",
          "text": [
            "Drive already mounted at /content/drive; to attempt to forcibly remount, call drive.mount(\"/content/drive\", force_remount=True).\n"
          ]
        }
      ],
      "source": [
        "from google.colab import drive\n",
        "drive.mount('/content/drive')"
      ]
    },
    {
      "cell_type": "code",
      "source": [
        "import matplotlib.pyplot as plt\n",
        "import seaborn as sns\n",
        "\n",
        "# Plot bar chart for top recommended books\n",
        "def plot_recommendation_bar_chart(recommendations, genre):\n",
        "    plt.figure(figsize=(7, 4))\n",
        "    sns.barplot(data=recommendations, x='Rating', y='Title', palette='viridis')\n",
        "    plt.title(f\"Top Recommended Books in Genre: {genre}\", fontsize=14)\n",
        "    plt.xlabel(\"Book Rating\")\n",
        "    plt.ylabel(\"Book Title\")\n",
        "    plt.tight_layout()\n",
        "    plt.show()\n"
      ],
      "metadata": {
        "id": "CfJfiOGb4dTk"
      },
      "id": "CfJfiOGb4dTk",
      "execution_count": 11,
      "outputs": []
    },
    {
      "cell_type": "code",
      "source": [
        "recommendations = recommend_books(user_genre, user_min_rating)\n",
        "if not recommendations.empty:\n",
        "    plot_recommendation_bar_chart(recommendations, user_genre)\n"
      ],
      "metadata": {
        "colab": {
          "base_uri": "https://localhost:8080/",
          "height": 514
        },
        "id": "iOlJDqLOJeoA",
        "outputId": "e240b1c4-65c5-4b99-ed44-b0501e077bc4"
      },
      "id": "iOlJDqLOJeoA",
      "execution_count": 12,
      "outputs": [
        {
          "output_type": "stream",
          "name": "stderr",
          "text": [
            "/tmp/ipython-input-11-1644865327.py:7: FutureWarning: \n",
            "\n",
            "Passing `palette` without assigning `hue` is deprecated and will be removed in v0.14.0. Assign the `y` variable to `hue` and set `legend=False` for the same effect.\n",
            "\n",
            "  sns.barplot(data=recommendations, x='Rating', y='Title', palette='viridis')\n"
          ]
        },
        {
          "output_type": "display_data",
          "data": {
            "text/plain": [
              "<Figure size 700x400 with 1 Axes>"
            ],
            "image/png": "[encoded data removed]"
          },
          "metadata": {}
        }
      ]
    },
    {
      "cell_type": "code",
      "source": [
        "def calculate_proxy_accuracy(df, recommendations):\n",
        "    # Total number of books in that genre\n",
        "    total_books = df[df['Genre'] == user_genre]\n",
        "    if len(total_books) == 0:\n",
        "        print(\"⚠️ No books found in this genre.\")\n",
        "        return\n",
        "\n",
        "    # Books that meet the recommendation criteria\n",
        "    matched = total_books[\n",
        "        (total_books['Rating'] >= user_min_rating) &\n",
        "        (total_books['Demand_Score'] >= 2)\n",
        "    ]\n",
        "\n",
        "    # Accuracy as the ratio of recommended books to possible matches\n",
        "    accuracy = len(recommendations) / len(matched) if len(matched) > 0 else 0\n",
        "    print(f\"📊 Proxy Recommendation Accuracy: {accuracy:.2%}\")\n"
      ],
      "metadata": {
        "id": "DNXCiX8ZQrR0"
      },
      "id": "DNXCiX8ZQrR0",
      "execution_count": 15,
      "outputs": []
    },
    {
      "cell_type": "code",
      "source": [
        "calculate_proxy_accuracy(df_clean, recommendations)\n"
      ],
      "metadata": {
        "colab": {
          "base_uri": "https://localhost:8080/"
        },
        "id": "SmGgSGpfQysI",
        "outputId": "29ae1572-5a14-42ad-9ec2-39274a5803f4"
      },
      "id": "SmGgSGpfQysI",
      "execution_count": 16,
      "outputs": [
        {
          "output_type": "stream",
          "name": "stdout",
          "text": [
            "📊 Proxy Recommendation Accuracy: 100.00%\n"
          ]
        }
      ]
    },
    {
      "cell_type": "code",
      "source": [],
      "metadata": {
        "id": "1D1pqltrQ1kg"
      },
      "id": "1D1pqltrQ1kg",
      "execution_count": null,
      "outputs": []
    }
  ],
  "metadata": {
    "kernelspec": {
      "display_name": "Python 3 (ipykernel)",
      "language": "python",
      "name": "python3"
    },
    "language_info": {
      "codemirror_mode": {
        "name": "ipython",
        "version": 3
      },
      "file_extension": ".py",
      "mimetype": "text/x-python",
      "name": "python",
      "nbconvert_exporter": "python",
      "pygments_lexer": "ipython3",
      "version": "3.12.4"
    },
    "colab": {
      "provenance": []
    }
  },
  "nbformat": 4,
  "nbformat_minor": 5
}